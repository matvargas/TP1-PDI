{
 "cells": [
  {
   "cell_type": "markdown",
   "metadata": {},
   "source": [
    "# <p style=\"text-align: center;\"> Trabalho Prático 01</p>"
   ]
  },
  {
   "cell_type": "markdown",
   "metadata": {},
   "source": [
    "### <p style=\"text-align: center;\"> Alunos: <br> Ana Luisa Rodrigues - 2014137530 <br> Matheus Vargas - 2014144812\n"
   ]
  },
  {
   "cell_type": "markdown",
   "metadata": {},
   "source": [
    "<p><font size=\"5\" color=\"red\" face=\"Lucida Console\">ONDE ESTÁ</font></p>\n",
    "<p><font size=\"6\" color=\"blue\" face=\"Lucida Console\">Wally?</font></p>"
   ]
  },
  {
   "cell_type": "markdown",
   "metadata": {},
   "source": [
    "O objetivo deste trabalho prático é a implementação do Chroma Key, uma sobreposição de imagens com fundo verde sobre um fundo arbitrário, com a utilização do notebook Jupyter e a linguagem Python. </p>\n",
    "\n",
    "Inicialmente selecionamos 4 imagens com fundo verde ('dilma.jpg', 'dog.jpg', 'mario.jpg', 'minion.jpg') e uma imagem para servir como fundo para a composição ('fundo.jpg'), uma segunda sequência de imagens foi selecionada afim de criar uma espécie de bônus ao jogo. As imagens de fundo verde foram escolhidas aleatoriamente enquanto a imagem de fundo é a ideia clássica do \"jogo\" de encontrar as imagens no desenho \"Onde está Wally?\". </p> \n",
    "\n",
    "O projeto será dividido em 4 partes: \n",
    "<li>Aplicação de operações sobre as imagens afim de dificultar a identificação destas no fundo escolhido</li>\n",
    "<li>Aplicação do Chroma Key nas imagens de fundo verde </li>\n",
    "<li>Combinação de todas as imagens no fundo e formação de uma única imagem </li>\n",
    "<li>Exibição da imagem resultante</li>"
   ]
  },
  {
   "cell_type": "markdown",
   "metadata": {},
   "source": [
    "### Importação e definições de funções"
   ]
  },
  {
   "cell_type": "code",
   "execution_count": null,
   "metadata": {},
   "outputs": [],
   "source": [
    "import skimage\n",
    "import skimage.io as io\n",
    "import skimage.color as skic\n",
    "import skimage.filters as skif\n",
    "import skimage.data as skid\n",
    "import skimage.util as sku\n",
    "import matplotlib.pyplot as plt\n",
    "from skimage.morphology import erosion\n",
    "import matplotlib.pyplot as plt\n",
    "\n",
    "import numpy as np\n",
    "\n",
    "from scipy import ndimage\n",
    "\n",
    "import warnings\n",
    "warnings.filterwarnings('ignore')\n",
    "\n",
    "def show(img):\n",
    "    fig, ax = plt.subplots(1, 1, figsize=(8, 8))\n",
    "    ax.imshow(img, cmap=plt.cm.gray)\n",
    "    ax.set_axis_off()\n",
    "    plt.show()"
   ]
  },
  {
   "cell_type": "markdown",
   "metadata": {},
   "source": [
    "### Parte I - Aplicação de operações sobre as imagens"
   ]
  },
  {
   "cell_type": "code",
   "execution_count": null,
   "metadata": {},
   "outputs": [],
   "source": [
    "img_dilma = io.imread('images/dilma.jpg')\n",
    "\n",
    "show(img_dilma)"
   ]
  },
  {
   "cell_type": "markdown",
   "metadata": {},
   "source": [
    "Ao se carregar a imagem da Dilma, pode-se perceber que ela possui marcas de expressão e que a qualidade da imagem não está muito boa. Para melhorar esses dois fatores, será aplicado o filtro Gaussiano para suavização. "
   ]
  },
  {
   "cell_type": "code",
   "execution_count": null,
   "metadata": {},
   "outputs": [],
   "source": [
    "smooth_image = filters.gaussian(img_dilma, 1.5)\n",
    "show(smooth_image)"
   ]
  },
  {
   "cell_type": "code",
   "execution_count": null,
   "metadata": {},
   "outputs": [],
   "source": [
    "img_dog = io.imread('images/dog.jpg')\n",
    "\n",
    "show(img_dog)"
   ]
  },
  {
   "cell_type": "markdown",
   "metadata": {},
   "source": [
    "A imagem do cachorro será rotacionada horizontalmente e depois em 30 graus e será aplicado o filtro de realce, já que a imagem está muito suavizada."
   ]
  },
  {
   "cell_type": "code",
   "execution_count": null,
   "metadata": {},
   "outputs": [],
   "source": [
    "rotate_hor_dog = np.fliplr(img_dog)\n",
    "show(rotate_hor_dog)"
   ]
  },
  {
   "cell_type": "code",
   "execution_count": null,
   "metadata": {},
   "outputs": [],
   "source": [
    "rotate_30_dog = ndimage.rotate(rotated_dog, 30, reshape=False)\n",
    "show(rotate_30_dog)"
   ]
  },
  {
   "cell_type": "code",
   "execution_count": null,
   "metadata": {},
   "outputs": [],
   "source": [
    "import PIL\n",
    "from PIL import Image\n",
    "import matplotlib.pyplot as plt\n",
    "\n",
    "###### Funções utilizadas #########\n",
    "\n",
    "\n",
    "# Redimensiona a imagem passada como paramentro\n",
    "# de acordo com o tamanho base\n",
    "def resize_img(img, basewidth):\n",
    "    wpercent = (basewidth / float(img.size[0]))\n",
    "    hsize = int((float(img.size[1]) * float(wpercent)))\n",
    "    return img.resize((basewidth, hsize), PIL.Image.ANTIALIAS)\n",
    "    \n",
    "    \n",
    "# Plota a imagem passada como parametro\n",
    "def show_img(img):\n",
    "    fig, ax = plt.subplots(1, 1, figsize=(20, 20))\n",
    "    ax.imshow(img, cmap=plt.cm.gray)\n",
    "    ax.set_axis_off()\n",
    "    \n",
    "# Remove o fundo da imagem para adicionar na imagem de fundo\n",
    "# Parâmentros:\n",
    "# img - Imagem com fundo verde\n",
    "# img_bg - Background\n",
    "# offset - Posição da imagem no BG\n",
    "def remove_background(img, img_bg, offset):\n",
    "    x_offset, y_offset = offset\n",
    "    rgb_img = img.convert('RGB')\n",
    "    rgb_bgimg = img_bg.convert('RGB')\n",
    "    img_w, img_h = img.size\n",
    "    for row in range(0, img_h):\n",
    "        for col in range(0, img_w):\n",
    "            r, g, b = rgb_img.getpixel((col, row))\n",
    "            if (g >= 200):\n",
    "                r_tochange, g_tochange, b_tochange = rgb_bgimg.getpixel((col + x_offset, row + y_offset))\n",
    "                img.putpixel((col, row), (r_tochange, g_tochange, b_tochange))\n",
    "    return img\n",
    "    "
   ]
  },
  {
   "cell_type": "code",
   "execution_count": null,
   "metadata": {
    "scrolled": false
   },
   "outputs": [],
   "source": [
    "#Carrega as imagens necessárias\n",
    "img_bg = Image.open('images/fundo.jpg')\n",
    "img_dog = Image.open('images/dog.jpg')\n",
    "img_dilma = Image.open('images/dilma.jpg')\n",
    "img_minecraft = Image.open('images/minecraft.jpg')\n",
    "img_simpson = Image.open('images/simpson.jpg')\n",
    "img_glasses = Image.open('images/glasses.jpg')\n",
    "img_mario = Image.open('images/mario.jpg')\n",
    "img_minion = Image.open('images/minion.jpg')\n",
    "img_shark = Image.open('images/shark.jpg')\n",
    "\n",
    "\n",
    "#Armazena os parametros do Background\n",
    "img_bg_w, img_bg_h = img_bg.size\n",
    "\n",
    "#Redefine o tamanho da imagem\n",
    "imgdog_resized = resize_img(img_dog, 85)\n",
    "imgdilma_resized = resize_img(img_dilma,100)\n",
    "imgminecraft_resized = resize_img(img_minecraft,280)\n",
    "imgsimpson_resized = resize_img(img_simpson, 185)\n",
    "imgglasses_resized = resize_img(img_glasses,40)\n",
    "imgmario_resized = resize_img(img_mario, 185)\n",
    "imgminion_resized = resize_img(img_minion, 185)\n",
    "imgshark_resized = resize_img(img_shark, 185)\n",
    "\n",
    "#Define a posição da imagem no BG\n",
    "dog_offset = (400, 100)\n",
    "dilma_offset = (670, 0)\n",
    "minecraft_offset= (375,590)\n",
    "simpson_offset = (0,630)\n",
    "glasses_offset = (537,434)\n",
    "mario_offset = (665,540)\n",
    "minion_offset = (520,170)\n",
    "shark_offset = (0,0)\n",
    "\n",
    "#Retira o fundo das imagens\n",
    "imgdog_processed = remove_background(imgdog_resized, img_bg, dog_offset)\n",
    "imgdilma_processed = remove_background(imgdilma_resized, img_bg, dilma_offset)\n",
    "imgminecraft_processed = remove_background(imgminecraft_resized, img_bg, minecraft_offset)\n",
    "imgsimpson_processed = remove_background(imgsimpson_resized, img_bg, simpson_offset)\n",
    "imgglasses_processed = remove_background(imgglasses_resized, img_bg, glasses_offset)\n",
    "imgmario_processed = remove_background(imgmario_resized, img_bg, mario_offset)\n",
    "imgminion_processed = remove_background(imgminion_resized, img_bg, minion_offset)\n",
    "imgshark_processed = remove_background(imgshark_resized, img_bg, shark_offset)\n",
    "\n",
    "#Adiciona a imagem no BG\n",
    "img_bg.paste(imgdog_processed, dog_offset)\n",
    "img_bg.paste(imgdilma_processed, dilma_offset)\n",
    "img_bg.paste(imgminecraft_processed, minecraft_offset)\n",
    "img_bg.paste(imgsimpson_processed, simpson_offset)\n",
    "img_bg.paste(imgglasses_processed, glasses_offset)\n",
    "img_bg.paste(imgmario_processed, mario_offset)\n",
    "img_bg.paste(imgminion_processed, minion_offset)\n",
    "img_bg.paste(imgshark_processed, shark_offset)\n",
    "\n",
    "# Plota a imagem\n",
    "show_img(img_bg)\n",
    "#img_bg.save('result.jpg')"
   ]
  },
  {
   "cell_type": "markdown",
   "metadata": {},
   "source": [
    "<p><font size=\"5\" color=\"red\" face=\"Lucida Console\">Desafio</font></p>\n",
    "<p>Você consegue encontrar:</p>\n",
    "<li>O Nelson Muntz dos Simpsons? (Dica: Ele está aprontando algo!) </li>\n",
    "<li>O zumbi do Minecraft? Niguém parece ter visto ainda... </li>\n",
    "<li>O Mário? Que Mário?</li>\n",
    "<li>Um rapaz está com um par de óculos estiloso... Estilo Turn Down for What</li>\n",
    "<li>Quem disse que um Minion não pode ir a praia?</li>\n",
    "<li>Reza a lenda que Dilmãe está estocando ar por aí!</li>\n",
    "<li>Quem não gosta de cachorros?</li>\n",
    "<li>Você consegue identificar o que não faz parte do fundo padrão?</li>"
   ]
  },
  {
   "cell_type": "code",
   "execution_count": null,
   "metadata": {},
   "outputs": [],
   "source": [
    "img_answer = Image.open('images/resposta.jpg')\n",
    "show_img(img_answer)"
   ]
  },
  {
   "cell_type": "code",
   "execution_count": null,
   "metadata": {},
   "outputs": [],
   "source": []
  }
 ],
 "metadata": {
  "kernelspec": {
   "display_name": "Python 3",
   "language": "python",
   "name": "python3"
  },
  "language_info": {
   "codemirror_mode": {
    "name": "ipython",
    "version": 3
   },
   "file_extension": ".py",
   "mimetype": "text/x-python",
   "name": "python",
   "nbconvert_exporter": "python",
   "pygments_lexer": "ipython3",
   "version": "3.6.4"
  }
 },
 "nbformat": 4,
 "nbformat_minor": 2
}
