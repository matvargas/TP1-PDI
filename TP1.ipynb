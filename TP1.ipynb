{
 "cells": [
  {
   "cell_type": "markdown",
   "metadata": {},
   "source": [
    "# <p style=\"text-align: center;\"> Trabalho Prático 01</p>"
   ]
  },
  {
   "cell_type": "markdown",
   "metadata": {},
   "source": [
    "### <p style=\"text-align: center;\"> Alunos: <br> Ana Luisa Rodrigues - 2014137530 <br> Matheus Vargas - 2014144812\n"
   ]
  },
  {
   "cell_type": "markdown",
   "metadata": {},
   "source": [
    "<p style=\"text-align: center;\"><font size=\"5\" color=\"red\" face=\"Lucida Console\">ONDE ESTÁ</font></p>\n",
    "<p style=\"text-align: center;\"><font size=\"6\" color=\"blue\" face=\"Lucida Console\">Wally?</font></p>"
   ]
  },
  {
   "cell_type": "markdown",
   "metadata": {},
   "source": [
    "O objetivo deste trabalho prático é a implementação do Chroma Key, uma sobreposição de imagens com fundo verde sobre um fundo arbitrário, com a utilização do notebook Jupyter e a linguagem Python. </p>\n",
    "\n",
    "Inicialmente selecionamos 8 imagens com fundo verde ('dilma.jpg', 'dog.jpg', 'mario.jpg', 'minion.jpg', 'glasses.jpg', 'minecraft.jpg', 'shark.jpg' e 'simpson.jpg') e uma imagem para servir como fundo para a composição ('fundo.jpg'). As imagens de fundo verde foram escolhidas aleatoriamente enquanto a imagem de fundo é a ideia clássica do \"jogo\" de encontrar as imagens no desenho \"Onde está Wally?\". </p> \n",
    "\n",
    "O projeto será dividido em 4 partes: \n",
    "   - Aplicação de operações radiométricas, geométricas e filtros nas imagens;\n",
    "   - Aplicação do Chroma Key nas imagens de fundo verde;\n",
    "   - Combinação de todas as imagens no fundo e formação de uma única imagem;\n",
    "   - Exibição da imagem resultante."
   ]
  },
  {
   "cell_type": "markdown",
   "metadata": {},
   "source": [
    "### Importação e definições de funções"
   ]
  },
  {
   "cell_type": "code",
   "execution_count": null,
   "metadata": {},
   "outputs": [],
   "source": [
    "import skimage\n",
    "import skimage.io as io\n",
    "import skimage.color as color\n",
    "import skimage.filters as filters\n",
    "import skimage.data as data\n",
    "import skimage.util as util\n",
    "from skimage.morphology import erosion\n",
    "import matplotlib.pyplot as plt\n",
    "import PIL\n",
    "from PIL import Image\n",
    "from PIL import ImageFilter\n",
    "from PIL import ImageEnhance\n",
    "import numpy as np\n",
    "from scipy import ndimage\n",
    "\n",
    "import warnings\n",
    "warnings.filterwarnings('ignore')\n",
    "\n",
    "# Plota a imagem passada como parametro\n",
    "def show(img):\n",
    "    fig, ax = plt.subplots(1, 1, figsize=(8, 8))\n",
    "    ax.imshow(img, cmap=plt.cm.gray)\n",
    "    ax.set_axis_off()\n",
    "    plt.show()\n",
    "    \n",
    "# Redimensiona a imagem passada como paramentro\n",
    "# de acordo com o tamanho base\n",
    "def resize_img(img, basewidth):\n",
    "    wpercent = (basewidth / float(img.size[0]))\n",
    "    hsize = int((float(img.size[1]) * float(wpercent)))\n",
    "    return img.resize((basewidth, hsize), PIL.Image.ANTIALIAS)\n",
    "    \n",
    "    \n",
    "# Plotar o fundo em escala maior\n",
    "def show_background(img):\n",
    "    fig, ax = plt.subplots(1, 1, figsize=(20, 20))\n",
    "    ax.imshow(img, cmap=plt.cm.gray)\n",
    "    ax.set_axis_off()\n",
    "    \n",
    "# Remove o fundo da imagem para adicionar na imagem de fundo\n",
    "# Parâmentros:\n",
    "# img - Imagem com fundo verde\n",
    "# img_bg - Background\n",
    "# offset - Posição da imagem no BG\n",
    "def remove_background(img, img_bg, offset):\n",
    "    x_offset, y_offset = offset\n",
    "    rgb_img = img.convert('RGB')\n",
    "    rgb_bgimg = img_bg.convert('RGB')\n",
    "    img_w, img_h = img.size\n",
    "    for row in range(0, img_h):\n",
    "        for col in range(0, img_w):\n",
    "            r, g, b = rgb_img.getpixel((col, row))\n",
    "            if (g >= 200):\n",
    "                r_tochange, g_tochange, b_tochange = rgb_bgimg.getpixel((col + x_offset, row + y_offset))\n",
    "                img.putpixel((col, row), (r_tochange, g_tochange, b_tochange))\n",
    "    return img\n",
    "\n",
    "# transformar imagem do tipo Array para RGB\n",
    "def transform_to_rgb(img):\n",
    "    image = Image.fromarray(img, \"RGB\")\n",
    "    return image"
   ]
  },
  {
   "cell_type": "markdown",
   "metadata": {},
   "source": [
    "### Parte I - Aplicação de operações sobre as imagens"
   ]
  },
  {
   "cell_type": "code",
   "execution_count": null,
   "metadata": {},
   "outputs": [],
   "source": [
    "#Carrega as imagens necessárias\n",
    "img_bg = Image.open('images/fundo.jpg')\n",
    "img_dog = Image.open('images/dog.jpg')\n",
    "img_dilma = Image.open('images/dilma.jpg')\n",
    "img_minecraft = Image.open('images/minecraft.jpg')\n",
    "img_simpson = Image.open('images/simpson.jpg')\n",
    "img_glasses = Image.open('images/glasses.jpg')\n",
    "img_mario = Image.open('images/mario.jpg')\n",
    "img_minion = Image.open('images/minion.jpg')\n",
    "img_shark = Image.open('images/shark.jpg')"
   ]
  },
  {
   "cell_type": "markdown",
   "metadata": {},
   "source": [
    "Ao se carregar a imagem da Dilma, pode-se perceber que ela possui marcas de expressão e que a qualidade da imagem não está muito boa. Para melhorar esses dois fatores, será aplicado um filtro para suavização. "
   ]
  },
  {
   "cell_type": "code",
   "execution_count": null,
   "metadata": {},
   "outputs": [],
   "source": [
    "show(img_dilma)\n",
    "\n",
    "transf_dilma = img_dilma.filter(ImageFilter.BLUR)\n",
    "show(transf_dilma)"
   ]
  },
  {
   "cell_type": "markdown",
   "metadata": {},
   "source": [
    "A imagem do cachorro será rotacionada horizontalmente e será aplicado o filtro de aguçamento já que a imagem está muito suavizada."
   ]
  },
  {
   "cell_type": "code",
   "execution_count": null,
   "metadata": {},
   "outputs": [],
   "source": [
    "show(img_dog)\n",
    "\n",
    "# rotacionar\n",
    "rotate_hor_dog = np.fliplr(img_dog)\n",
    "\n",
    "# transformar de array para RGB\n",
    "rgb_dog = transform_to_rgb(rotate_hor_dog)\n",
    "\n",
    "# filtro aguçamento\n",
    "transf_dog = rgb_dog.filter(ImageFilter.SHARPEN)\n",
    "show(transf_dog)"
   ]
  },
  {
   "cell_type": "markdown",
   "metadata": {},
   "source": [
    "O brilho da imagem do minecraft será aumentado já que a imagem está muito escura."
   ]
  },
  {
   "cell_type": "code",
   "execution_count": null,
   "metadata": {},
   "outputs": [],
   "source": [
    "show(img_minecraft)\n",
    "\n",
    "# aumentar brilho da imagem\n",
    "enhancer = ImageEnhance.Brightness(img_minecraft)\n",
    "transf_minecraft = enhancer.enhance(1.5)\n",
    "show(transf_minecraft)"
   ]
  },
  {
   "cell_type": "markdown",
   "metadata": {},
   "source": [
    "### Parte II - Aplicação do Chroma Key nas imagens de fundo verde"
   ]
  },
  {
   "cell_type": "code",
   "execution_count": null,
   "metadata": {
    "scrolled": false
   },
   "outputs": [],
   "source": [
    "#Armazena os parametros do Background\n",
    "img_bg_w, img_bg_h = img_bg.size\n",
    "\n",
    "#Redefine o tamanho da imagem\n",
    "imgdog_resized = resize_img(transf_dog, 85)\n",
    "imgdilma_resized = resize_img(transf_dilma,100)\n",
    "imgminecraft_resized = resize_img(transf_minecraft,280)\n",
    "imgsimpson_resized = resize_img(img_simpson, 185)\n",
    "imgglasses_resized = resize_img(img_glasses,40)\n",
    "imgmario_resized = resize_img(img_mario, 185)\n",
    "imgminion_resized = resize_img(img_minion, 185)\n",
    "imgshark_resized = resize_img(img_shark, 185)\n",
    "\n",
    "#Define a posição da imagem no BG\n",
    "dog_offset = (400, 100)\n",
    "dilma_offset = (670, 0)\n",
    "minecraft_offset= (375,590)\n",
    "simpson_offset = (0,630)\n",
    "glasses_offset = (537,434)\n",
    "mario_offset = (665,540)\n",
    "minion_offset = (520,170)\n",
    "shark_offset = (0,0)\n",
    "\n",
    "#Retira o fundo das imagens\n",
    "imgdog_processed = remove_background(imgdog_resized, img_bg, dog_offset)\n",
    "imgdilma_processed = remove_background(imgdilma_resized, img_bg, dilma_offset)\n",
    "imgminecraft_processed = remove_background(imgminecraft_resized, img_bg, minecraft_offset)\n",
    "imgsimpson_processed = remove_background(imgsimpson_resized, img_bg, simpson_offset)\n",
    "imgglasses_processed = remove_background(imgglasses_resized, img_bg, glasses_offset)\n",
    "imgmario_processed = remove_background(imgmario_resized, img_bg, mario_offset)\n",
    "imgminion_processed = remove_background(imgminion_resized, img_bg, minion_offset)\n",
    "imgshark_processed = remove_background(imgshark_resized, img_bg, shark_offset)"
   ]
  },
  {
   "cell_type": "markdown",
   "metadata": {},
   "source": [
    "### Parte III - Combinação de todas as imagens no fundo e formação de uma única imagem"
   ]
  },
  {
   "cell_type": "code",
   "execution_count": null,
   "metadata": {},
   "outputs": [],
   "source": [
    "#Adiciona a imagem no BG\n",
    "img_bg.paste(imgdog_processed, dog_offset)\n",
    "img_bg.paste(imgdilma_processed, dilma_offset)\n",
    "img_bg.paste(imgminecraft_processed, minecraft_offset)\n",
    "img_bg.paste(imgsimpson_processed, simpson_offset)\n",
    "img_bg.paste(imgglasses_processed, glasses_offset)\n",
    "img_bg.paste(imgmario_processed, mario_offset)\n",
    "img_bg.paste(imgminion_processed, minion_offset)\n",
    "img_bg.paste(imgshark_processed, shark_offset)"
   ]
  },
  {
   "cell_type": "markdown",
   "metadata": {},
   "source": [
    "### Parte IV - Exibição da imagem resultante"
   ]
  },
  {
   "cell_type": "code",
   "execution_count": null,
   "metadata": {},
   "outputs": [],
   "source": [
    "# Plota a imagem\n",
    "show_background(img_bg)\n",
    "img_bg.save('result.jpg')"
   ]
  },
  {
   "cell_type": "markdown",
   "metadata": {},
   "source": [
    "<p><font size=\"5\" color=\"red\" face=\"Lucida Console\">Desafio</font></p>\n",
    "<p>Você consegue encontrar:</p>\n",
    " - O Nelson Muntz dos Simpsons? (Dica: Ele está aprontando algo!) \n",
    " - O zumbi do Minecraft? Niguém parece ter visto ainda... \n",
    " - O Mário? Que Mário?\n",
    " - Um rapaz está com um par de óculos estiloso... Estilo Turn Down for What\n",
    " - Quem disse que um Minion não pode ir a praia?\n",
    " - Reza a lenda que Dilmãe está estocando ar por aí!\n",
    " - Quem não gosta de cachorros?\n",
    " - Andou na prancha, cuidado o tubarão vai te pegar!"
   ]
  },
  {
   "cell_type": "markdown",
   "metadata": {},
   "source": [
    "### Solução"
   ]
  },
  {
   "cell_type": "markdown",
   "metadata": {},
   "source": [
    "Não achou alguma imagem nessa confusão e não aguenta mais procurar? Aqui está a solução do problema:"
   ]
  },
  {
   "cell_type": "code",
   "execution_count": null,
   "metadata": {},
   "outputs": [],
   "source": [
    "img_answer = Image.open('./images/answer.png')\n",
    "show_background(img_answer)"
   ]
  }
 ],
 "metadata": {
  "kernelspec": {
   "display_name": "Python 3",
   "language": "python",
   "name": "python3"
  },
  "language_info": {
   "codemirror_mode": {
    "name": "ipython",
    "version": 3
   },
   "file_extension": ".py",
   "mimetype": "text/x-python",
   "name": "python",
   "nbconvert_exporter": "python",
   "pygments_lexer": "ipython3",
   "version": "3.6.4"
  }
 },
 "nbformat": 4,
 "nbformat_minor": 2
}
